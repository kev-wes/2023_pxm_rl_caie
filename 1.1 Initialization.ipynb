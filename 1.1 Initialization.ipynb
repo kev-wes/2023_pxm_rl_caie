{
 "cells": [
  {
   "cell_type": "code",
   "execution_count": 45,
   "metadata": {},
   "outputs": [],
   "source": [
    "from prog_models.models import BatteryCircuit\n",
    "import numpy as np\n",
    "import pandas as pd\n",
    "import math"
   ]
  },
  {
   "cell_type": "code",
   "execution_count": 40,
   "metadata": {},
   "outputs": [],
   "source": [
    "def get_rul(p_batch):\n",
    "    # Loading function\n",
    "    # t = time\n",
    "    # loading_df = two column df with first column containing the cumulated production time and\n",
    "    # second column containing the loading / intensity\n",
    "    def future_loading(t, x=None):\n",
    "        r_loading = p_batch[p_batch.time <= t].iloc[-1:].intensity.values[0].copy()\n",
    "        return {'i': r_loading}\n",
    "    options = { #configuration for this sim\n",
    "        'save_freq': 100,  # Frequency at which results are saved (s)\n",
    "        'horizon': p_batch.time.iloc[-1]  # Maximum time to simulate (s) - This is a cutoff. The simulation will end at this time, or when a threshold has been met, whichever is first\n",
    "    }\n",
    "    (times, inputs, states, outputs, event_states) = batt.simulate_to_threshold(future_loading, **options)\n",
    "    return (event_states[-1][\"EOD\"])"
   ]
  },
  {
   "cell_type": "code",
   "execution_count": 4,
   "metadata": {},
   "outputs": [],
   "source": [
    "### Initialization\n",
    "\n",
    "# Init Problem\n",
    "n_size = 20 # Problem size\n",
    "theta_deg = 0 # Initial degradation\n",
    "delta = 1 # maximal degradation\n",
    "cost_f = 100 # minimum predictive maintenance cost (degradation == delta)\n",
    "cost_zero = 1000 # maximum predictive maintenance cost spent (degradation == theta_deg)\n",
    "cost_breakdown = 2000 # cost for reactive / breakdown maintenance (degradation > delta)\n",
    "# Init Jobs\n",
    "p_vec = np.random.uniform(100, 200, n_size) # Processing time\n",
    "intensity_vec = np.random.uniform(1, 6, n_size) # Intensity of job on machine\n",
    "#delta_vec <- p_vec / rul_vec\n",
    "job_df = pd.DataFrame({'job': list(range(1, n_size+1)), 'time': p_vec, 'intensity': intensity_vec})\n",
    "\n",
    "# Init Machine model\n",
    "batt = BatteryCircuit() # Create physical model"
   ]
  },
  {
   "cell_type": "code",
   "execution_count": 44,
   "metadata": {},
   "outputs": [
    {
     "ename": "SyntaxError",
     "evalue": "invalid syntax (Temp/ipykernel_18028/189545062.py, line 4)",
     "output_type": "error",
     "traceback": [
      "\u001b[1;36m  File \u001b[1;32m\"C:\\Users\\w_kevi02\\AppData\\Local\\Temp/ipykernel_18028/189545062.py\"\u001b[1;36m, line \u001b[1;32m4\u001b[0m\n\u001b[1;33m    epsilons  = pmin(0.05, 2/(log(2:(N_epo+1))^3)) # deviation\u001b[0m\n\u001b[1;37m                                   ^\u001b[0m\n\u001b[1;31mSyntaxError\u001b[0m\u001b[1;31m:\u001b[0m invalid syntax\n"
     ]
    }
   ],
   "source": [
    "# Init Reinforcement Learning\n",
    "N_epo     = 200\n",
    "gamma0    = 0.9                             # discount factor\n",
    "epsilons  = pmin(0.05, 2/(log(2:(N_epo+1))^3)) # deviation \n",
    "alphas    = 0.00005/sqrt(log(2:(N_epo+2)))     # step size \n",
    "\n",
    "best_mean_reward = -math.inf                     # check for best average per epoch\n",
    "mean_rewards_over_epos = rep(0,N_epo)\n",
    "net_AVF       <- net.create(sizes, activs)"
   ]
  },
  {
   "cell_type": "code",
   "execution_count": 42,
   "metadata": {},
   "outputs": [],
   "source": [
    "for \n",
    "### TODO RL Algo"
   ]
  },
  {
   "cell_type": "code",
   "execution_count": null,
   "metadata": {},
   "outputs": [],
   "source": [
    "# for epoch\n",
    "#   init \n",
    "#     network mit 3 neurons: current RUL (state), job dauer (action), job intensität (action)\n",
    "#     job storage mit N jobs, job dauern, job intensit?ten\n",
    "#     maintenance storage mit N-1 maintenance interventions\n",
    "#\n",
    "#   repeat{\n",
    "#     Simuliere anhand von letzter Action den neuen State (RUL)\n",
    "#     berechne reward:\n",
    "#       Wenn breakdown: -1000\n",
    "#       wenn letzte action = M\n",
    "#         überbleibende RUL*Kosten pro RUL\n",
    "#       Sonst: 1-RUL [Lebensspanne der Maschine]/1000[Reduktionsfaktor]\n",
    "#     \n",
    "#     wenn job storage leer:\n",
    "#       break\n",
    "#     \n",
    "#     for all jobs + maintenance, query value from NN\n",
    "#     store the greedy action (highest value)\n",
    "#     sample and store a new action with the chance of 1-eps = new action and eps = any other action\n",
    "#     remove action from job or maintenance storage\n",
    "#\n",
    "#     Update NN\n",
    "#       compute gradient with old state\n",
    "#       Berechne temporal difference error\n",
    "#       add gradient to net\n",
    "#\n",
    "#     Old stuff = new stuff\n",
    "#   }"
   ]
  },
  {
   "cell_type": "code",
   "execution_count": 41,
   "metadata": {},
   "outputs": [
    {
     "data": {
      "text/plain": [
       "-0.014097012303557754"
      ]
     },
     "execution_count": 41,
     "metadata": {},
     "output_type": "execute_result"
    }
   ],
   "source": [
    "# TEST STUB FOR GET_RUL FUNCTION\n",
    "# create schedule descending by intensity\n",
    "schedule_df = job_df.sort_values(by=['intensity'], ascending=False)\n",
    "# cumulate job durations to represent processing time\n",
    "schedule_df.time = schedule_df.time.copy().cumsum() - schedule_df.time.copy().iloc[0]\n",
    "# Return RUL, if RUL <0 machine failed and algorithm was aborted\n",
    "get_rul(schedule_df)"
   ]
  }
 ],
 "metadata": {
  "interpreter": {
   "hash": "222f59c2d7fbf1ddc4f6b85d0af98f29933867077b5b971d73d8de088c1f34d9"
  },
  "kernelspec": {
   "display_name": "Python 3.7.4 64-bit ('base': conda)",
   "language": "python",
   "name": "python3"
  },
  "language_info": {
   "codemirror_mode": {
    "name": "ipython",
    "version": 3
   },
   "file_extension": ".py",
   "mimetype": "text/x-python",
   "name": "python",
   "nbconvert_exporter": "python",
   "pygments_lexer": "ipython3",
   "version": "3.10.1"
  },
  "orig_nbformat": 4
 },
 "nbformat": 4,
 "nbformat_minor": 2
}
