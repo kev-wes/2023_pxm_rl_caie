{
 "cells": [
  {
   "cell_type": "code",
   "execution_count": 48,
   "metadata": {},
   "outputs": [
    {
     "name": "stdout",
     "output_type": "stream",
     "text": [
      "Iteration 10000\n"
     ]
    }
   ],
   "source": [
    "### DATA-DRIVEN PROGNOSTICS I ###\n",
    "### GENERATE DATA FOR DATA-DRIVEN MODEL ###\n",
    "\n",
    "import random\n",
    "from prog_models.models import BatteryCircuit\n",
    "import pandas as pd\n",
    "import warnings\n",
    "\n",
    "# Ignore warnings when machine exceeds its end of life\n",
    "warnings.filterwarnings(\"ignore\")\n",
    "\n",
    "\"\"\" Method that uses a physical machine model from the prog_models package and a current (health) state of the model and\n",
    "an action (i.e., intensity), which is performed for 100 time steps\n",
    "    Parameter:\n",
    "        machine             machine model from the prog_models package\n",
    "        state               current (health) state of the model\n",
    "        action              loading of the machine for the next 100 time steps\n",
    "    Return:\n",
    "        health                               \n",
    "    \"\"\"\n",
    "def produce_model(machine, states, action):\n",
    "        \n",
    "        # Define load of battery\n",
    "        def future_loading(t, x=None):\n",
    "            return {'i': action}\n",
    "\n",
    "        # Set current state of machine\n",
    "        machine.parameters['x0'] = states\n",
    "        # Simulate 100 steps\n",
    "        options = {\n",
    "            'save_freq': 100,  # Frequency at which results are saved\n",
    "            'dt': 2  # Timestep\n",
    "        }\n",
    "        (_, _, states, outputs, event_states) = machine.simulate_to(100, future_loading, **options)\n",
    "        health = event_states[-1]['EOD']\n",
    "        return(round(health, 2), states[-1], outputs[-1]['t'], outputs[-1]['v'])\n",
    "def reset_states(machine):\n",
    "    # Returns initial states of machine, e.g., {'tb': 18.95, 'qb': 7856.3254, 'qcp': 0, 'qcs': 0} for Battery\n",
    "    return(machine.default_parameters['x0'])\n",
    "\n",
    "battery = BatteryCircuit()\n",
    "states = reset_states(battery)\n",
    "reset_counter = 0\n",
    "dataset = []\n",
    "for i in range(int(1e4)):\n",
    "    # If asset failed last period, reset all historical values\n",
    "    if reset_counter == 0: t = v = t_1 = v_1 = t_2 = v_2 = t_3 = v_3 = 0 \n",
    "    # Shift history by one time period\n",
    "    v_3 = v_2\n",
    "    t_3 = t_2\n",
    "    v_2 = v_1\n",
    "    t_2 = t_1\n",
    "    v_1 = v\n",
    "    t_1 = t\n",
    "\n",
    "    # Increment reset_counter\n",
    "    reset_counter = reset_counter + 1\n",
    "    # Compute new health, states, t, and v using last battery state and a random new action\n",
    "    health, states, t, v = produce_model(machine=battery, states=states, action=random.sample((0, 1, 2, 3, 4), 1)[0])\n",
    "    \n",
    "    if health <= 0: \n",
    "        # Reset battery states to initialize battery for next produce_model call\n",
    "        states = reset_states(battery)\n",
    "        # Initialize reset_counter\n",
    "        reset_counter = 0\n",
    "        # Sometimes produce_model returns weird or negative values as the end of life is exceeded\n",
    "        # Here, we just simply set it to zero to not confuse a later learner \n",
    "        health = 0\n",
    "\n",
    "    # append to two-dimensional list\n",
    "    dataset.append([t, v, t_1, v_1, t_2, v_2, t_3, v_3, health])\n",
    "\n",
    "    # print progress every 10,000 iterations\n",
    "    if (i+1) % 10000 == 0: print(\"Iteration\", i+1)\n",
    "# Transform two-dim list to dataframe\n",
    "dataset = pd.DataFrame(dataset, columns=['t', 'v', 't_1', 'v_1', 't_2', 'v_2', 't_3', 'v_3', 'health'])\n",
    "# Save it as pickle\n",
    "dataset.to_pickle('diagnostics/data')"
   ]
  },
  {
   "cell_type": "code",
   "execution_count": 1,
   "metadata": {},
   "outputs": [
    {
     "name": "stdout",
     "output_type": "stream",
     "text": [
      "RandomForestRegressor() : [0.92967429 0.94783845 0.94303161 0.94675743 0.93744603]\n"
     ]
    }
   ],
   "source": [
    "### DATA-DRIVEN PROGNOSTICS II ###\n",
    "### FIT AND TEST MODEL ###\n",
    "from sklearn import tree, linear_model, kernel_ridge, svm, neighbors, gaussian_process, ensemble, neural_network\n",
    "import pandas as pd\n",
    "from sklearn.model_selection import cross_val_score\n",
    "import pickle\n",
    "\n",
    "dataset = pd.read_pickle('diagnostics/data')\n",
    "X = dataset[['t', 'v', 't_1', 'v_1', 't_2', 'v_2', 't_3', 'v_3']]\n",
    "y = dataset['health']\n",
    "#learner = [linear_model.LinearRegression(), linear_model.Ridge(), linear_model.Lasso(), linear_model.BayesianRidge(), tree.DecisionTreeRegressor(), # Fast\n",
    "#        kernel_ridge.KernelRidge(), svm.SVR(), neighbors.KNeighborsRegressor(), gaussian_process.GaussianProcessRegressor(), # Slow\n",
    "#        ensemble.RandomForestRegressor(), neural_network.MLPRegressor()] # Slow\n",
    "learner = [ensemble.RandomForestRegressor()]\n",
    "for i in learner:\n",
    "    reg = i\n",
    "    print(i, \":\", cross_val_score(reg, X, y, cv=5)) # default scoring R2\n",
    "model = learner[0].fit(X, y)\n",
    "pickle.dump(model, open('diagnostics/model', 'wb'))"
   ]
  },
  {
   "cell_type": "code",
   "execution_count": 7,
   "metadata": {},
   "outputs": [
    {
     "name": "stdout",
     "output_type": "stream",
     "text": [
      "Eval num_timesteps=1000, episode_reward=-2003.80 +/- 252.23\n",
      "Episode length: 100.00 +/- 0.00\n",
      "New best mean reward!\n",
      "Eval num_timesteps=2000, episode_reward=-1990.40 +/- 225.91\n",
      "Episode length: 100.00 +/- 0.00\n",
      "New best mean reward!\n"
     ]
    },
    {
     "data": {
      "text/plain": [
       "(-1915.1, 208.74695207355722)"
      ]
     },
     "execution_count": 7,
     "metadata": {},
     "output_type": "execute_result"
    }
   ],
   "source": [
    "### REINFORCEMENT LEARNING I ###\n",
    "### TRAIN, SAVE, EVALUATE MODEL ###\n",
    "\n",
    "import gym\n",
    "import stable_baselines3 as sb\n",
    "from stable_baselines3.common.callbacks import EvalCallback\n",
    "from stable_baselines3.common.evaluation import evaluate_policy\n",
    "import pickle\n",
    "\n",
    "# Load diagnostics model from disk\n",
    "diag_model = pickle.load(open('diagnostics/model', 'rb'))\n",
    "# Initiate environment\n",
    "env = gym.make('Production-v0', diag_model = diag_model)\n",
    "# Callback for best model\n",
    "best_callback = EvalCallback(env, best_model_save_path='./callback/',\n",
    "                             log_path='./callback/', eval_freq=1000,\n",
    "                             deterministic=True, render=False)\n",
    "\n",
    "model = sb.DQN('MlpPolicy', env, tensorboard_log=\"./tensorboard/\", gamma = 0.99, learning_rate=0.01)\n",
    "model.learn(total_timesteps=2e6, tb_log_name=\"DQN_DIAG_model\", callback = best_callback)\n",
    "model.save(\"DQN_DIAG_model\")\n",
    "\n",
    "# Evaluate the agent\n",
    "evaluate_policy(model, model.get_env(), n_eval_episodes=10)"
   ]
  },
  {
   "cell_type": "code",
   "execution_count": 8,
   "metadata": {},
   "outputs": [
    {
     "data": {
      "text/plain": [
       "(483.5, 19.50512753098528)"
      ]
     },
     "execution_count": 8,
     "metadata": {},
     "output_type": "execute_result"
    }
   ],
   "source": [
    "### REINFORCEMENT LEARNING II ###\n",
    "### LOAD MODEL ###\n",
    "import gym\n",
    "import stable_baselines3 as sb\n",
    "from stable_baselines3 import DQN\n",
    "from stable_baselines3.common.evaluation import evaluate_policy\n",
    "\n",
    "env = gym.make('Production-v0')\n",
    "# Best Model\n",
    "model = DQN.load('./callback/best_model', env = env)\n",
    "# Last Model\n",
    "#model = DQN.load('DQN_1_model', env = env)\n",
    "\n",
    "# Evaluate the agent\n",
    "evaluate_policy(model, model.get_env(), n_eval_episodes=10)"
   ]
  },
  {
   "cell_type": "code",
   "execution_count": 9,
   "metadata": {},
   "outputs": [
    {
     "name": "stdout",
     "output_type": "stream",
     "text": [
      "Cumulative reward is:  498.0\n"
     ]
    }
   ],
   "source": [
    "### REINFORCEMENT LEARNING III ###\n",
    "### TRY MODEL ###\n",
    "import pandas as pd\n",
    "\n",
    "store = []\n",
    "obs = env.reset()\n",
    "done = False\n",
    "store.append([0, obs[0], obs[2], obs[3], 0, done, obs[1]])\n",
    "while not done:\n",
    "    action, _state = model.predict(obs, deterministic=True)\n",
    "    obs, reward, done, info = env.step(action)\n",
    "    store.append([action, obs[0], obs[2], obs[3], reward, done, obs[1]])\n",
    "\n",
    "store_df = pd.DataFrame(store, columns=['action', 'health', 'inventory', 'sp_inventory', 'reward', 'done', 'next_order'])\n",
    "print(\"Cumulative reward is: \", sum(store_df['reward']))"
   ]
  }
 ],
 "metadata": {
  "interpreter": {
   "hash": "6f69c5940b32a5cbabe45c9825076a627c6cdb9ede58cf4d0fa74ca6057ffe74"
  },
  "kernelspec": {
   "display_name": "Python 3.9.7 64-bit ('base': conda)",
   "language": "python",
   "name": "python3"
  },
  "language_info": {
   "codemirror_mode": {
    "name": "ipython",
    "version": 3
   },
   "file_extension": ".py",
   "mimetype": "text/x-python",
   "name": "python",
   "nbconvert_exporter": "python",
   "pygments_lexer": "ipython3",
   "version": "3.9.7"
  },
  "orig_nbformat": 4
 },
 "nbformat": 4,
 "nbformat_minor": 2
}
